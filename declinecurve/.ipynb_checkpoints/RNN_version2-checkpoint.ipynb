{
 "cells": [
  {
   "cell_type": "code",
   "execution_count": 77,
   "metadata": {
    "collapsed": true
   },
   "outputs": [],
   "source": [
    "import pandas as pd\n",
    "import numpy as np\n",
    "import matplotlib.pyplot as plt\n",
    "import random\n",
    "from sklearn.model_selection import train_test_split\n",
    "from time import time\n"
   ]
  },
  {
   "cell_type": "code",
   "execution_count": 25,
   "metadata": {
    "collapsed": true
   },
   "outputs": [],
   "source": [
    "file_1 = 'Small_Dataset_of_Good_APIs_2.csv'\n",
    "production_data = pd.read_csv(file_1)\n",
    "\n",
    "file_2 = './save/All_saved_parameters_20190211194512.csv'\n",
    "parameters_data = pd.read_csv(file_2)"
   ]
  },
  {
   "cell_type": "code",
   "execution_count": 26,
   "metadata": {},
   "outputs": [],
   "source": [
    "min_qi = parameters_data['qi'].quantile(0.05)\n",
    "max_qi = parameters_data['qi'].quantile(0.95)\n",
    "\n",
    "min_di = parameters_data['di'].quantile(0.05)\n",
    "max_di = parameters_data['di'].quantile(0.95)\n",
    "\n",
    "min_b = parameters_data['b'].quantile(0.05)\n",
    "max_b = parameters_data['b'].quantile(0.95)\n",
    "\n",
    "parameters_data['qi_norm'] = (parameters_data['qi']-min_qi)/(max_qi-min_qi)\n",
    "parameters_data['di_norm'] = (parameters_data['di']-min_di)/(max_di-min_di)\n",
    "parameters_data['b_norm'] = (parameters_data['b']-min_b)/(max_b-min_b)"
   ]
  },
  {
   "cell_type": "code",
   "execution_count": 27,
   "metadata": {
    "collapsed": true
   },
   "outputs": [],
   "source": [
    "ydata = parameters_data[['qi_norm', 'di_norm', 'b_norm']].as_matrix()"
   ]
  },
  {
   "cell_type": "code",
   "execution_count": 28,
   "metadata": {
    "collapsed": true
   },
   "outputs": [],
   "source": [
    "Xdata = np.zeros(shape=(parameters_data.shape[0], 90, 2))-1"
   ]
  },
  {
   "cell_type": "code",
   "execution_count": 29,
   "metadata": {},
   "outputs": [],
   "source": [
    "sample = 0\n",
    "\n",
    "max_cum_days = 0\n",
    "\n",
    "for API_NUMBER in parameters_data['API_NUMBER']:\n",
    "    #print(API_NUMBER, sample)\n",
    "    selected_production_data = pd.DataFrame()\n",
    "    selected_production_data = production_data.loc[production_data['API_NUMBER']==API_NUMBER, ['OIL_PROD_DAYS', 'OIL_PRODUCTION_BBL']]\n",
    "    selected_production_data = selected_production_data.dropna()\n",
    "    selected_production_data = selected_production_data.loc[selected_production_data['OIL_PRODUCTION_BBL']>0]\n",
    "    selected_production_data['RATE_PROD'] = selected_production_data['OIL_PRODUCTION_BBL']/selected_production_data['OIL_PROD_DAYS']\n",
    "    selected_production_data['CUM_DAYS'] = selected_production_data['OIL_PROD_DAYS'].cumsum()\n",
    "    t = selected_production_data['CUM_DAYS']\n",
    "    q = selected_production_data['RATE_PROD']\n",
    "    if (max_cum_days < selected_production_data['CUM_DAYS'].max()):\n",
    "        max_cum_days = selected_production_data['CUM_DAYS'].max()\n",
    "    Xdata[sample, 0:t.shape[0], 0] = t\n",
    "    Xdata[sample, 0:t.shape[0], 1] = q\n",
    "    sample += 1"
   ]
  },
  {
   "cell_type": "code",
   "execution_count": 30,
   "metadata": {},
   "outputs": [
    {
     "data": {
      "text/plain": [
       "88.0"
      ]
     },
     "execution_count": 30,
     "metadata": {},
     "output_type": "execute_result"
    }
   ],
   "source": [
    "max_month=round(max_cum_days/30)\n",
    "max_month"
   ]
  },
  {
   "cell_type": "code",
   "execution_count": 31,
   "metadata": {
    "collapsed": true
   },
   "outputs": [],
   "source": [
    "def func_hyp(t, qi, di, b):\n",
    "    return qi/((1+di*b*t)**(1/b))"
   ]
  },
  {
   "cell_type": "code",
   "execution_count": 32,
   "metadata": {},
   "outputs": [],
   "source": [
    "number_of_synth_examples = 5000\n",
    "\n",
    "Xdata_synth = np.zeros(shape=(number_of_synth_examples, 90, 2))-1\n",
    "ydata_synth = np.zeros(shape=(number_of_synth_examples, 3))\n",
    "\n",
    "for i in range(number_of_synth_examples):\n",
    "    #print(i)\n",
    "    qi_synth = random.uniform(min_qi, max_qi)\n",
    "    di_synth = random.uniform(min_di, max_di)\n",
    "    b_synth = random.uniform(min_b, max_b)\n",
    "    \n",
    "    qi_synth_norm = (qi_synth-min_qi)/(max_qi-min_qi)\n",
    "    di_synth_norm = (di_synth-min_di)/(max_di-min_di)\n",
    "    b_synth_norm = (b_synth-min_b)/(max_b-min_b)\n",
    "    \n",
    "    \n",
    "    ydata_synth[i, :] = [qi_synth_norm, di_synth_norm, b_synth_norm]\n",
    "    \n",
    "    cum_months_synth = random.randint(12, max_month)\n",
    "    start_day_synth = random.randint(5,30)\n",
    "    \n",
    "    j=0\n",
    "    for cum_days_synth in range(start_day_synth, cum_months_synth*30, 30):\n",
    "        production_noise = random.random()\n",
    "        production_synth = func_hyp(cum_days_synth, qi_synth, di_synth, b_synth)*(1+production_noise)\n",
    "        Xdata_synth[i, j, :] = [cum_days_synth, production_synth]\n",
    "        j += 1"
   ]
  },
  {
   "cell_type": "code",
   "execution_count": 33,
   "metadata": {},
   "outputs": [
    {
     "data": {
      "image/png": "[encoded data removed]",
      "text/plain": [
       "<matplotlib.figure.Figure at 0x1a35440fd0>"
      ]
     },
     "metadata": {},
     "output_type": "display_data"
    }
   ],
   "source": [
    "sample_for_plot = 930\n",
    "\n",
    "plt.plot(Xdata_synth[sample_for_plot,:,0], Xdata_synth[sample_for_plot,:,1], 'b.')\n",
    "plt.show()"
   ]
  },
  {
   "cell_type": "code",
   "execution_count": 71,
   "metadata": {},
   "outputs": [],
   "source": [
    "import keras\n",
    "from keras.models import Sequential  \n",
    "from keras.layers.core import Dense, Activation\n",
    "from keras.layers.recurrent import LSTM\n",
    "from keras.layers import InputLayer\n",
    "from keras import optimizers\n",
    "from keras.callbacks import EarlyStopping, ModelCheckpoint, ReduceLROnPlateau, TensorBoard"
   ]
  },
  {
   "cell_type": "code",
   "execution_count": 72,
   "metadata": {
    "collapsed": true
   },
   "outputs": [],
   "source": [
    "input_shape = (None, 90, 2)"
   ]
  },
  {
   "cell_type": "code",
   "execution_count": 79,
   "metadata": {},
   "outputs": [
    {
     "name": "stdout",
     "output_type": "stream",
     "text": [
      "_________________________________________________________________\n",
      "Layer (type)                 Output Shape              Param #   \n",
      "=================================================================\n",
      "lstm_19 (LSTM)               (None, 90, 30)            3960      \n",
      "_________________________________________________________________\n",
      "lstm_20 (LSTM)               (None, 10)                1640      \n",
      "_________________________________________________________________\n",
      "dense_12 (Dense)             (None, 3)                 33        \n",
      "=================================================================\n",
      "Total params: 5,633\n",
      "Trainable params: 5,633\n",
      "Non-trainable params: 0\n",
      "_________________________________________________________________\n"
     ]
    }
   ],
   "source": [
    "model = Sequential([\n",
    "    InputLayer(batch_input_shape=input_shape),\n",
    "    LSTM(30,return_sequences=True), #dropout=0.2, #recurrent_dropout=0.2),\n",
    "    LSTM(10, return_sequences=False),\n",
    "    #Dense(10, activation='relu'),\n",
    "    Dense(3, activation='relu')])\n",
    "\n",
    "model.summary()"
   ]
  },
  {
   "cell_type": "code",
   "execution_count": 80,
   "metadata": {
    "collapsed": true
   },
   "outputs": [],
   "source": [
    "opt = optimizers.Adam(lr=0.001)\n",
    "\n",
    "model.compile(loss='mae',\n",
    "          optimizer=opt,\n",
    "          metrics=['mae'])"
   ]
  },
  {
   "cell_type": "code",
   "execution_count": 81,
   "metadata": {},
   "outputs": [],
   "source": [
    "X_train_synth, X_test_synth, y_train_synth, y_test_synth = train_test_split( Xdata_synth, ydata_synth, test_size=0.20, random_state=7)"
   ]
  },
  {
   "cell_type": "code",
   "execution_count": null,
   "metadata": {},
   "outputs": [
    {
     "name": "stdout",
     "output_type": "stream",
     "text": [
      "Train on 4000 samples, validate on 1000 samples\n",
      "Epoch 1/200\n",
      " - 12s - loss: 0.3718 - mean_absolute_error: 0.3718 - val_loss: 0.2573 - val_mean_absolute_error: 0.2573\n",
      "\n",
      "Epoch 00001: val_loss improved from inf to 0.25733, saving model to ./keras.model\n",
      "Epoch 2/200\n",
      " - 10s - loss: 0.2484 - mean_absolute_error: 0.2484 - val_loss: 0.2435 - val_mean_absolute_error: 0.2435\n",
      "\n",
      "Epoch 00002: val_loss improved from 0.25733 to 0.24349, saving model to ./keras.model\n",
      "Epoch 3/200\n",
      " - 10s - loss: 0.2411 - mean_absolute_error: 0.2411 - val_loss: 0.2344 - val_mean_absolute_error: 0.2344\n",
      "\n",
      "Epoch 00003: val_loss improved from 0.24349 to 0.23443, saving model to ./keras.model\n",
      "Epoch 4/200\n",
      " - 10s - loss: 0.2210 - mean_absolute_error: 0.2210 - val_loss: 0.2107 - val_mean_absolute_error: 0.2107\n",
      "\n",
      "Epoch 00004: val_loss improved from 0.23443 to 0.21071, saving model to ./keras.model\n",
      "Epoch 5/200\n",
      " - 10s - loss: 0.2085 - mean_absolute_error: 0.2085 - val_loss: 0.2068 - val_mean_absolute_error: 0.2068\n",
      "\n",
      "Epoch 00005: val_loss improved from 0.21071 to 0.20683, saving model to ./keras.model\n",
      "Epoch 6/200\n",
      " - 10s - loss: 0.2067 - mean_absolute_error: 0.2067 - val_loss: 0.2038 - val_mean_absolute_error: 0.2038\n",
      "\n",
      "Epoch 00006: val_loss improved from 0.20683 to 0.20380, saving model to ./keras.model\n",
      "Epoch 7/200\n",
      " - 10s - loss: 0.2032 - mean_absolute_error: 0.2032 - val_loss: 0.1997 - val_mean_absolute_error: 0.1997\n",
      "\n",
      "Epoch 00007: val_loss improved from 0.20380 to 0.19967, saving model to ./keras.model\n",
      "Epoch 8/200\n",
      " - 10s - loss: 0.2025 - mean_absolute_error: 0.2025 - val_loss: 0.1994 - val_mean_absolute_error: 0.1994\n",
      "\n",
      "Epoch 00008: val_loss improved from 0.19967 to 0.19941, saving model to ./keras.model\n",
      "Epoch 9/200\n",
      " - 10s - loss: 0.2002 - mean_absolute_error: 0.2002 - val_loss: 0.2022 - val_mean_absolute_error: 0.2022\n",
      "\n",
      "Epoch 00009: val_loss did not improve from 0.19941\n",
      "Epoch 10/200\n",
      " - 10s - loss: 0.2016 - mean_absolute_error: 0.2016 - val_loss: 0.2011 - val_mean_absolute_error: 0.2011\n",
      "\n",
      "Epoch 00010: val_loss did not improve from 0.19941\n",
      "Epoch 11/200\n",
      " - 10s - loss: 0.1997 - mean_absolute_error: 0.1997 - val_loss: 0.1984 - val_mean_absolute_error: 0.1984\n",
      "\n",
      "Epoch 00011: val_loss improved from 0.19941 to 0.19839, saving model to ./keras.model\n",
      "Epoch 12/200\n",
      " - 10s - loss: 0.2004 - mean_absolute_error: 0.2004 - val_loss: 0.1980 - val_mean_absolute_error: 0.1980\n",
      "\n",
      "Epoch 00012: val_loss improved from 0.19839 to 0.19797, saving model to ./keras.model\n",
      "Epoch 13/200\n",
      " - 10s - loss: 0.1990 - mean_absolute_error: 0.1990 - val_loss: 0.2024 - val_mean_absolute_error: 0.2024\n",
      "\n",
      "Epoch 00013: val_loss did not improve from 0.19797\n",
      "Epoch 14/200\n",
      " - 10s - loss: 0.1988 - mean_absolute_error: 0.1988 - val_loss: 0.1929 - val_mean_absolute_error: 0.1929\n",
      "\n",
      "Epoch 00014: val_loss improved from 0.19797 to 0.19287, saving model to ./keras.model\n",
      "Epoch 15/200\n",
      " - 10s - loss: 0.1973 - mean_absolute_error: 0.1973 - val_loss: 0.1935 - val_mean_absolute_error: 0.1935\n",
      "\n",
      "Epoch 00015: val_loss did not improve from 0.19287\n",
      "Epoch 16/200\n",
      " - 10s - loss: 0.1976 - mean_absolute_error: 0.1976 - val_loss: 0.2017 - val_mean_absolute_error: 0.2017\n",
      "\n",
      "Epoch 00016: val_loss did not improve from 0.19287\n",
      "Epoch 17/200\n",
      " - 10s - loss: 0.1992 - mean_absolute_error: 0.1992 - val_loss: 0.1935 - val_mean_absolute_error: 0.1935\n",
      "\n",
      "Epoch 00017: val_loss did not improve from 0.19287\n",
      "Epoch 18/200\n",
      " - 10s - loss: 0.1972 - mean_absolute_error: 0.1972 - val_loss: 0.1943 - val_mean_absolute_error: 0.1943\n",
      "\n",
      "Epoch 00018: val_loss did not improve from 0.19287\n",
      "Epoch 19/200\n",
      " - 10s - loss: 0.1969 - mean_absolute_error: 0.1969 - val_loss: 0.1956 - val_mean_absolute_error: 0.1956\n",
      "\n",
      "Epoch 00019: val_loss did not improve from 0.19287\n",
      "\n",
      "Epoch 00019: ReduceLROnPlateau reducing learning rate to 0.00010000000474974513.\n",
      "Epoch 20/200\n",
      " - 10s - loss: 0.1943 - mean_absolute_error: 0.1943 - val_loss: 0.1921 - val_mean_absolute_error: 0.1921\n",
      "\n",
      "Epoch 00020: val_loss improved from 0.19287 to 0.19209, saving model to ./keras.model\n",
      "Epoch 21/200\n",
      " - 10s - loss: 0.1934 - mean_absolute_error: 0.1934 - val_loss: 0.1919 - val_mean_absolute_error: 0.1919\n",
      "\n",
      "Epoch 00021: val_loss improved from 0.19209 to 0.19188, saving model to ./keras.model\n",
      "Epoch 22/200\n"
     ]
    }
   ],
   "source": [
    "early_stopping = EarlyStopping(patience=10, verbose=1)\n",
    "reduce_lr = ReduceLROnPlateau(factor=0.1, patience=5, min_lr=0.00001, verbose=1)\n",
    "model_checkpoint = ModelCheckpoint(\"./keras.model\", save_best_only=True, verbose=1)\n",
    "tensorboard = TensorBoard(log_dir='./Graph', histogram_freq=0, write_graph=True, write_images=True)\n",
    "\n",
    "\n",
    "history_synth = model.fit(X_train_synth, y_train_synth, batch_size=64, epochs=200, \n",
    "                          validation_data=(X_test_synth, y_test_synth), \n",
    "                          callbacks=[early_stopping, model_checkpoint, reduce_lr, tensorboard], verbose=2)\n",
    "\n",
    "# in a terminal run:\n",
    "# tensorboard --logdir ./Graph \n",
    "# it gives you access to TensorBoard and how your network is getting trained."
   ]
  },
  {
   "cell_type": "code",
   "execution_count": 17,
   "metadata": {},
   "outputs": [
    {
     "data": {
      "image/png": "[encoded data removed]",
      "text/plain": [
       "<matplotlib.figure.Figure at 0x1a34ec8978>"
      ]
     },
     "metadata": {},
     "output_type": "display_data"
    }
   ],
   "source": [
    "epoch = history_synth.epoch\n",
    "loss = history_synth.history['loss']\n",
    "val = history_synth.history['val_loss']\n",
    "\n",
    "plt.plot(epoch, loss, 'b-')\n",
    "plt.plot(epoch, val, 'r.-')\n",
    "plt.show()"
   ]
  },
  {
   "cell_type": "code",
   "execution_count": 18,
   "metadata": {},
   "outputs": [
    {
     "data": {
      "text/plain": [
       "(283, 90, 2)"
      ]
     },
     "execution_count": 18,
     "metadata": {},
     "output_type": "execute_result"
    }
   ],
   "source": [
    "X_train, X_test, y_train, y_test = train_test_split( Xdata, ydata, test_size=0.20, random_state=7)\n",
    "X_train.shape"
   ]
  },
  {
   "cell_type": "code",
   "execution_count": 19,
   "metadata": {},
   "outputs": [
    {
     "name": "stdout",
     "output_type": "stream",
     "text": [
      "Train on 283 samples, validate on 71 samples\n",
      "Epoch 1/20\n",
      " - 3s - loss: 0.2781 - mean_absolute_error: 0.2781 - val_loss: 0.1812 - val_mean_absolute_error: 0.1812\n",
      "Epoch 2/20\n",
      " - 3s - loss: 0.2446 - mean_absolute_error: 0.2446 - val_loss: 0.1664 - val_mean_absolute_error: 0.1664\n",
      "Epoch 3/20\n",
      " - 3s - loss: 0.2331 - mean_absolute_error: 0.2331 - val_loss: 0.1647 - val_mean_absolute_error: 0.1647\n",
      "Epoch 4/20\n",
      " - 3s - loss: 0.2344 - mean_absolute_error: 0.2344 - val_loss: 0.1718 - val_mean_absolute_error: 0.1718\n",
      "Epoch 5/20\n",
      " - 3s - loss: 0.2335 - mean_absolute_error: 0.2335 - val_loss: 0.1572 - val_mean_absolute_error: 0.1572\n",
      "Epoch 6/20\n",
      " - 3s - loss: 0.2291 - mean_absolute_error: 0.2291 - val_loss: 0.1596 - val_mean_absolute_error: 0.1596\n",
      "Epoch 7/20\n",
      " - 3s - loss: 0.2265 - mean_absolute_error: 0.2265 - val_loss: 0.1528 - val_mean_absolute_error: 0.1528\n",
      "Epoch 8/20\n",
      " - 3s - loss: 0.2262 - mean_absolute_error: 0.2262 - val_loss: 0.1563 - val_mean_absolute_error: 0.1563\n",
      "Epoch 9/20\n",
      " - 3s - loss: 0.2232 - mean_absolute_error: 0.2232 - val_loss: 0.1532 - val_mean_absolute_error: 0.1532\n",
      "Epoch 10/20\n",
      " - 3s - loss: 0.2203 - mean_absolute_error: 0.2203 - val_loss: 0.1638 - val_mean_absolute_error: 0.1638\n",
      "Epoch 11/20\n",
      " - 3s - loss: 0.2245 - mean_absolute_error: 0.2245 - val_loss: 0.1623 - val_mean_absolute_error: 0.1623\n",
      "Epoch 12/20\n",
      " - 3s - loss: 0.2207 - mean_absolute_error: 0.2207 - val_loss: 0.1542 - val_mean_absolute_error: 0.1542\n",
      "Epoch 13/20\n",
      " - 3s - loss: 0.2193 - mean_absolute_error: 0.2193 - val_loss: 0.1536 - val_mean_absolute_error: 0.1536\n",
      "Epoch 14/20\n",
      " - 3s - loss: 0.2175 - mean_absolute_error: 0.2175 - val_loss: 0.1544 - val_mean_absolute_error: 0.1544\n",
      "Epoch 15/20\n",
      " - 3s - loss: 0.2206 - mean_absolute_error: 0.2206 - val_loss: 0.1675 - val_mean_absolute_error: 0.1675\n",
      "Epoch 16/20\n",
      " - 3s - loss: 0.2205 - mean_absolute_error: 0.2205 - val_loss: 0.1590 - val_mean_absolute_error: 0.1590\n",
      "Epoch 17/20\n",
      " - 3s - loss: 0.2208 - mean_absolute_error: 0.2208 - val_loss: 0.1541 - val_mean_absolute_error: 0.1541\n",
      "Epoch 18/20\n",
      " - 3s - loss: 0.2172 - mean_absolute_error: 0.2172 - val_loss: 0.1573 - val_mean_absolute_error: 0.1573\n",
      "Epoch 19/20\n",
      " - 3s - loss: 0.2195 - mean_absolute_error: 0.2195 - val_loss: 0.1602 - val_mean_absolute_error: 0.1602\n",
      "Epoch 20/20\n",
      " - 3s - loss: 0.2239 - mean_absolute_error: 0.2239 - val_loss: 0.1531 - val_mean_absolute_error: 0.1531\n"
     ]
    }
   ],
   "source": [
    "early_stopping = EarlyStopping(patience=10, verbose=1)\n",
    "reduce_lr = ReduceLROnPlateau(factor=0.1, patience=5, min_lr=0.00001, verbose=1)\n",
    "model_checkpoint = ModelCheckpoint(\"./keras.model\", save_best_only=True, verbose=1)\n",
    "\n",
    "history = model.fit(X_train, y_train, batch_size=16, epochs=20, \n",
    "                    validation_data=(X_test, y_test),\n",
    "                    callbacks=[early_stopping, model_checkpoint, reduce_lr], verbose=2)"
   ]
  },
  {
   "cell_type": "code",
   "execution_count": 23,
   "metadata": {},
   "outputs": [
    {
     "data": {
      "image/png": "[encoded data removed]",
      "text/plain": [
       "<matplotlib.figure.Figure at 0x1a3530c160>"
      ]
     },
     "metadata": {},
     "output_type": "display_data"
    }
   ],
   "source": [
    "epoch = history.epoch\n",
    "loss = history.history['loss']\n",
    "val = history.history['val_loss']\n",
    "\n",
    "plt.plot(epoch, loss, 'b-')\n",
    "plt.plot(epoch, val, 'r.-')\n",
    "plt.ylim(0.1, 0.4)\n",
    "plt.show()"
   ]
  },
  {
   "cell_type": "code",
   "execution_count": null,
   "metadata": {
    "collapsed": true
   },
   "outputs": [],
   "source": []
  }
 ],
 "metadata": {
  "kernelspec": {
   "display_name": "Python 3",
   "language": "python",
   "name": "python3"
  },
  "language_info": {
   "codemirror_mode": {
    "name": "ipython",
    "version": 3
   },
   "file_extension": ".py",
   "mimetype": "text/x-python",
   "name": "python",
   "nbconvert_exporter": "python",
   "pygments_lexer": "ipython3",
   "version": "3.6.8"
  }
 },
 "nbformat": 4,
 "nbformat_minor": 2
}
